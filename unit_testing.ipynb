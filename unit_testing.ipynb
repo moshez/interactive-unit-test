{
 "cells": [
  {
   "cell_type": "code",
   "execution_count": 1,
   "metadata": {},
   "outputs": [],
   "source": [
    "import unittest"
   ]
  },
  {
   "cell_type": "code",
   "execution_count": 18,
   "metadata": {},
   "outputs": [],
   "source": [
    "def test(klass):\n",
    "    loader = unittest.TestLoader()\n",
    "    suite=loader.loadTestsFromTestCase(klass)\n",
    "    runner = unittest.TextTestRunner()\n",
    "    runner.run(suite)"
   ]
  },
  {
   "cell_type": "code",
   "execution_count": 19,
   "metadata": {},
   "outputs": [
    {
     "name": "stderr",
     "output_type": "stream",
     "text": [
      "E\n",
      "======================================================================\n",
      "ERROR: test_fail (__main__.TestSimpleFailure)\n",
      "----------------------------------------------------------------------\n",
      "Traceback (most recent call last):\n",
      "  File \"<ipython-input-19-1a1ccf3c858f>\", line 3, in test_fail\n",
      "    1/0\n",
      "ZeroDivisionError: division by zero\n",
      "\n",
      "----------------------------------------------------------------------\n",
      "Ran 1 test in 0.001s\n",
      "\n",
      "FAILED (errors=1)\n"
     ]
    }
   ],
   "source": [
    "class TestSimpleFailure(unittest.TestCase):\n",
    "    def test_fail(self):\n",
    "        1/0\n",
    "\n",
    "test(TestSimpleFailure)"
   ]
  },
  {
   "cell_type": "code",
   "execution_count": 20,
   "metadata": {},
   "outputs": [],
   "source": [
    "from hamcrest import assert_that, equal_to"
   ]
  },
  {
   "cell_type": "code",
   "execution_count": 21,
   "metadata": {},
   "outputs": [
    {
     "name": "stderr",
     "output_type": "stream",
     "text": [
      "F\n",
      "======================================================================\n",
      "FAIL: test_paradox (__main__.TestEquality)\n",
      "----------------------------------------------------------------------\n",
      "Traceback (most recent call last):\n",
      "  File \"<ipython-input-21-81a0a7f66168>\", line 3, in test_paradox\n",
      "    assert_that(1, equal_to(0))\n",
      "AssertionError: \n",
      "Expected: <0>\n",
      "     but: was <1>\n",
      "\n",
      "\n",
      "----------------------------------------------------------------------\n",
      "Ran 1 test in 0.001s\n",
      "\n",
      "FAILED (failures=1)\n"
     ]
    }
   ],
   "source": [
    "class TestEquality(unittest.TestCase):\n",
    "    def test_paradox(self):\n",
    "        assert_that(1, equal_to(0))\n",
    "\n",
    "test(TestEquality)"
   ]
  },
  {
   "cell_type": "code",
   "execution_count": 23,
   "metadata": {},
   "outputs": [
    {
     "name": "stderr",
     "output_type": "stream",
     "text": [
      "FF\n",
      "======================================================================\n",
      "FAIL: test_anoter_paradox (__main__.TestMultipleEquality)\n",
      "----------------------------------------------------------------------\n",
      "Traceback (most recent call last):\n",
      "  File \"<ipython-input-23-5f324b42ddf8>\", line 7, in test_anoter_paradox\n",
      "    assert_that(self.value, equal_to(2))\n",
      "AssertionError: \n",
      "Expected: <2>\n",
      "     but: was <1>\n",
      "\n",
      "\n",
      "======================================================================\n",
      "FAIL: test_paradox (__main__.TestMultipleEquality)\n",
      "----------------------------------------------------------------------\n",
      "Traceback (most recent call last):\n",
      "  File \"<ipython-input-23-5f324b42ddf8>\", line 5, in test_paradox\n",
      "    assert_that(self.value, equal_to(0))\n",
      "AssertionError: \n",
      "Expected: <0>\n",
      "     but: was <1>\n",
      "\n",
      "\n",
      "----------------------------------------------------------------------\n",
      "Ran 2 tests in 0.002s\n",
      "\n",
      "FAILED (failures=2)\n"
     ]
    }
   ],
   "source": [
    "class TestMultipleEquality(unittest.TestCase):\n",
    "    def setUp(self):\n",
    "        self.value = 1\n",
    "    def test_paradox(self):\n",
    "        assert_that(self.value, equal_to(0))\n",
    "    def test_anoter_paradox(self):\n",
    "        assert_that(self.value, equal_to(2))\n",
    "\n",
    "test(TestMultipleEquality)"
   ]
  },
  {
   "cell_type": "code",
   "execution_count": null,
   "metadata": {},
   "outputs": [],
   "source": []
  }
 ],
 "metadata": {
  "kernelspec": {
   "display_name": "Python 3",
   "language": "python",
   "name": "python3"
  },
  "language_info": {
   "codemirror_mode": {
    "name": "ipython",
    "version": 3
   },
   "file_extension": ".py",
   "mimetype": "text/x-python",
   "name": "python",
   "nbconvert_exporter": "python",
   "pygments_lexer": "ipython3",
   "version": "3.7.1"
  }
 },
 "nbformat": 4,
 "nbformat_minor": 2
}
