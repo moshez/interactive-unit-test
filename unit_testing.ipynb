{
 "cells": [
  {
   "cell_type": "code",
   "execution_count": 1,
   "metadata": {},
   "outputs": [],
   "source": [
    "import unittest"
   ]
  },
  {
   "cell_type": "code",
   "execution_count": 18,
   "metadata": {},
   "outputs": [],
   "source": [
    "def test(klass):\n",
    "    loader = unittest.TestLoader()\n",
    "    suite=loader.loadTestsFromTestCase(klass)\n",
    "    runner = unittest.TextTestRunner()\n",
    "    runner.run(suite)"
   ]
  },
  {
   "cell_type": "code",
   "execution_count": 19,
   "metadata": {},
   "outputs": [
    {
     "name": "stderr",
     "output_type": "stream",
     "text": [
      "E\n",
      "======================================================================\n",
      "ERROR: test_fail (__main__.TestSimpleFailure)\n",
      "----------------------------------------------------------------------\n",
      "Traceback (most recent call last):\n",
      "  File \"<ipython-input-19-1a1ccf3c858f>\", line 3, in test_fail\n",
      "    1/0\n",
      "ZeroDivisionError: division by zero\n",
      "\n",
      "----------------------------------------------------------------------\n",
      "Ran 1 test in 0.001s\n",
      "\n",
      "FAILED (errors=1)\n"
     ]
    }
   ],
   "source": [
    "class TestSimpleFailure(unittest.TestCase):\n",
    "    def test_fail(self):\n",
    "        1/0\n",
    "\n",
    "test(TestSimpleFailure)"
   ]
  },
  {
   "cell_type": "code",
   "execution_count": 20,
   "metadata": {},
   "outputs": [],
   "source": [
    "from hamcrest import assert_that, equal_to"
   ]
  },
  {
   "cell_type": "code",
   "execution_count": 21,
   "metadata": {},
   "outputs": [
    {
     "name": "stderr",
     "output_type": "stream",
     "text": [
      "F\n",
      "======================================================================\n",
      "FAIL: test_paradox (__main__.TestEquality)\n",
      "----------------------------------------------------------------------\n",
      "Traceback (most recent call last):\n",
      "  File \"<ipython-input-21-81a0a7f66168>\", line 3, in test_paradox\n",
      "    assert_that(1, equal_to(0))\n",
      "AssertionError: \n",
      "Expected: <0>\n",
      "     but: was <1>\n",
      "\n",
      "\n",
      "----------------------------------------------------------------------\n",
      "Ran 1 test in 0.001s\n",
      "\n",
      "FAILED (failures=1)\n"
     ]
    }
   ],
   "source": [
    "class TestEquality(unittest.TestCase):\n",
    "    def test_paradox(self):\n",
    "        assert_that(1, equal_to(0))\n",
    "\n",
    "test(TestEquality)"
   ]
  },
  {
   "cell_type": "code",
   "execution_count": 23,
   "metadata": {},
   "outputs": [
    {
     "name": "stderr",
     "output_type": "stream",
     "text": [
      "FF\n",
      "======================================================================\n",
      "FAIL: test_anoter_paradox (__main__.TestMultipleEquality)\n",
      "----------------------------------------------------------------------\n",
      "Traceback (most recent call last):\n",
      "  File \"<ipython-input-23-5f324b42ddf8>\", line 7, in test_anoter_paradox\n",
      "    assert_that(self.value, equal_to(2))\n",
      "AssertionError: \n",
      "Expected: <2>\n",
      "     but: was <1>\n",
      "\n",
      "\n",
      "======================================================================\n",
      "FAIL: test_paradox (__main__.TestMultipleEquality)\n",
      "----------------------------------------------------------------------\n",
      "Traceback (most recent call last):\n",
      "  File \"<ipython-input-23-5f324b42ddf8>\", line 5, in test_paradox\n",
      "    assert_that(self.value, equal_to(0))\n",
      "AssertionError: \n",
      "Expected: <0>\n",
      "     but: was <1>\n",
      "\n",
      "\n",
      "----------------------------------------------------------------------\n",
      "Ran 2 tests in 0.002s\n",
      "\n",
      "FAILED (failures=2)\n"
     ]
    }
   ],
   "source": [
    "class TestMultipleEquality(unittest.TestCase):\n",
    "    def setUp(self):\n",
    "        self.value = 1\n",
    "    def test_paradox(self):\n",
    "        assert_that(self.value, equal_to(0))\n",
    "    def test_anoter_paradox(self):\n",
    "        assert_that(self.value, equal_to(2))\n",
    "\n",
    "test(TestMultipleEquality)"
   ]
  },
  {
   "cell_type": "code",
   "execution_count": 26,
   "metadata": {},
   "outputs": [
    {
     "name": "stderr",
     "output_type": "stream",
     "text": [
      "F\n",
      "======================================================================\n",
      "FAIL: test_read (__main__.TestRead)\n",
      "----------------------------------------------------------------------\n",
      "Traceback (most recent call last):\n",
      "  File \"<ipython-input-26-d49b66ab24f9>\", line 5, in test_read\n",
      "    assert_that(fpin.read(4), equal_to(\"\"))\n",
      "AssertionError: \n",
      "Expected: ''\n",
      "     but: was '\\x00\\x00\\x00\\x00'\n",
      "\n",
      "\n",
      "----------------------------------------------------------------------\n",
      "Ran 1 test in 0.002s\n",
      "\n",
      "FAILED (failures=1)\n"
     ]
    }
   ],
   "source": [
    "class TestRead(unittest.TestCase):\n",
    "    def test_read(self):\n",
    "        self.addCleanup(lambda: fpin.close())\n",
    "        fpin = open(\"/dev/zero\")\n",
    "        assert_that(fpin.read(4), equal_to(\"\"))\n",
    "\n",
    "test(TestRead)"
   ]
  },
  {
   "cell_type": "code",
   "execution_count": 27,
   "metadata": {},
   "outputs": [
    {
     "name": "stderr",
     "output_type": "stream",
     "text": [
      "FF\n",
      "======================================================================\n",
      "FAIL: test_long_read (__main__.TestRead)\n",
      "----------------------------------------------------------------------\n",
      "Traceback (most recent call last):\n",
      "  File \"<ipython-input-27-6f914fad277b>\", line 10, in test_long_read\n",
      "    assert_that(self.fpin.read(8), equal_to(\"\"))\n",
      "AssertionError: \n",
      "Expected: ''\n",
      "     but: was '\\x00\\x00\\x00\\x00\\x00\\x00\\x00\\x00'\n",
      "\n",
      "\n",
      "======================================================================\n",
      "FAIL: test_short_read (__main__.TestRead)\n",
      "----------------------------------------------------------------------\n",
      "Traceback (most recent call last):\n",
      "  File \"<ipython-input-27-6f914fad277b>\", line 7, in test_short_read\n",
      "    assert_that(self.fpin.read(4), equal_to(\"\"))\n",
      "AssertionError: \n",
      "Expected: ''\n",
      "     but: was '\\x00\\x00\\x00\\x00'\n",
      "\n",
      "\n",
      "----------------------------------------------------------------------\n",
      "Ran 2 tests in 0.006s\n",
      "\n",
      "FAILED (failures=2)\n"
     ]
    }
   ],
   "source": [
    "class TestDoubleRead(unittest.TestCase):\n",
    "    def setUp(self):\n",
    "        self.addCleanup(lambda: self.fpin.close())\n",
    "        self.fpin = open(\"/dev/zero\")\n",
    "        \n",
    "    def test_short_read(self):\n",
    "        assert_that(self.fpin.read(4), equal_to(\"\"))\n",
    "        \n",
    "    def test_long_read(self):\n",
    "        assert_that(self.fpin.read(8), equal_to(\"\"))        \n",
    "\n",
    "test(TestDoubleRead)"
   ]
  },
  {
   "cell_type": "code",
   "execution_count": 30,
   "metadata": {},
   "outputs": [
    {
     "name": "stderr",
     "output_type": "stream",
     "text": [
      "\n",
      "======================================================================\n",
      "FAIL: test_all_reads (__main__.TestMultiRead) (length=1)\n",
      "----------------------------------------------------------------------\n",
      "Traceback (most recent call last):\n",
      "  File \"<ipython-input-30-4c1279f84021>\", line 7, in test_all_reads\n",
      "    assert_that(fpin.read(length), equal_to(\"\"))\n",
      "AssertionError: \n",
      "Expected: ''\n",
      "     but: was '\\x00'\n",
      "\n",
      "\n",
      "======================================================================\n",
      "FAIL: test_all_reads (__main__.TestMultiRead) (length=4)\n",
      "----------------------------------------------------------------------\n",
      "Traceback (most recent call last):\n",
      "  File \"<ipython-input-30-4c1279f84021>\", line 7, in test_all_reads\n",
      "    assert_that(fpin.read(length), equal_to(\"\"))\n",
      "AssertionError: \n",
      "Expected: ''\n",
      "     but: was '\\x00\\x00\\x00\\x00'\n",
      "\n",
      "\n",
      "======================================================================\n",
      "FAIL: test_all_reads (__main__.TestMultiRead) (length=8)\n",
      "----------------------------------------------------------------------\n",
      "Traceback (most recent call last):\n",
      "  File \"<ipython-input-30-4c1279f84021>\", line 7, in test_all_reads\n",
      "    assert_that(fpin.read(length), equal_to(\"\"))\n",
      "AssertionError: \n",
      "Expected: ''\n",
      "     but: was '\\x00\\x00\\x00\\x00\\x00\\x00\\x00\\x00'\n",
      "\n",
      "\n",
      "----------------------------------------------------------------------\n",
      "Ran 1 test in 0.001s\n",
      "\n",
      "FAILED (failures=3)\n"
     ]
    }
   ],
   "source": [
    "class TestMultiRead(unittest.TestCase):\n",
    "    def test_all_reads(self):\n",
    "        self.addCleanup(lambda: fpin.close())\n",
    "        fpin = open(\"/dev/zero\")\n",
    "        for length in (1, 4, 8):\n",
    "            with self.subTest(length=length):\n",
    "                assert_that(fpin.read(length), equal_to(\"\"))\n",
    "\n",
    "test(TestMultiRead)"
   ]
  },
  {
   "cell_type": "code",
   "execution_count": 31,
   "metadata": {},
   "outputs": [
    {
     "name": "stderr",
     "output_type": "stream",
     "text": [
      "\n",
      "======================================================================\n",
      "FAIL: test_all_reads (__main__.TestMultiSeparateRead) (length=1)\n",
      "----------------------------------------------------------------------\n",
      "Traceback (most recent call last):\n",
      "  File \"<ipython-input-31-0077c8b3960f>\", line 6, in test_all_reads\n",
      "    assert_that(fpin.read(length), equal_to(\"\"))\n",
      "AssertionError: \n",
      "Expected: ''\n",
      "     but: was '\\x00'\n",
      "\n",
      "\n",
      "======================================================================\n",
      "FAIL: test_all_reads (__main__.TestMultiSeparateRead) (length=4)\n",
      "----------------------------------------------------------------------\n",
      "Traceback (most recent call last):\n",
      "  File \"<ipython-input-31-0077c8b3960f>\", line 6, in test_all_reads\n",
      "    assert_that(fpin.read(length), equal_to(\"\"))\n",
      "AssertionError: \n",
      "Expected: ''\n",
      "     but: was '\\x00\\x00\\x00\\x00'\n",
      "\n",
      "\n",
      "======================================================================\n",
      "FAIL: test_all_reads (__main__.TestMultiSeparateRead) (length=8)\n",
      "----------------------------------------------------------------------\n",
      "Traceback (most recent call last):\n",
      "  File \"<ipython-input-31-0077c8b3960f>\", line 6, in test_all_reads\n",
      "    assert_that(fpin.read(length), equal_to(\"\"))\n",
      "AssertionError: \n",
      "Expected: ''\n",
      "     but: was '\\x00\\x00\\x00\\x00\\x00\\x00\\x00\\x00'\n",
      "\n",
      "\n",
      "----------------------------------------------------------------------\n",
      "Ran 1 test in 0.003s\n",
      "\n",
      "FAILED (failures=3)\n"
     ]
    }
   ],
   "source": [
    "class TestMultiSeparateRead(unittest.TestCase):\n",
    "    def test_all_reads(self):\n",
    "        for length in (1, 4, 8):\n",
    "            with self.subTest(length=length):\n",
    "                with open(\"/dev/zero\") as fpin:\n",
    "                    assert_that(fpin.read(length), equal_to(\"\"))\n",
    "\n",
    "test(TestMultiSeparateRead)"
   ]
  },
  {
   "cell_type": "code",
   "execution_count": null,
   "metadata": {},
   "outputs": [],
   "source": []
  }
 ],
 "metadata": {
  "kernelspec": {
   "display_name": "Python 3",
   "language": "python",
   "name": "python3"
  },
  "language_info": {
   "codemirror_mode": {
    "name": "ipython",
    "version": 3
   },
   "file_extension": ".py",
   "mimetype": "text/x-python",
   "name": "python",
   "nbconvert_exporter": "python",
   "pygments_lexer": "ipython3",
   "version": "3.7.1"
  }
 },
 "nbformat": 4,
 "nbformat_minor": 2
}
